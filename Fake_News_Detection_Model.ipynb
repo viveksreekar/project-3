{
  "cells": [
    {
      "cell_type": "code",
      "source": [
        "# ==============================================================================\n",
        "# FAKE NEWS DETECTION MODEL\n",
        "# ==============================================================================\n",
        "# This script builds a machine learning model to classify news articles as\n",
        "# REAL or FAKE using NLP techniques.\n",
        "#\n",
        "# Tech Stack: Python, Pandas, Scikit-learn, NLTK\n",
        "#\n",
        "# To Run This Script:\n",
        "# 1. Make sure you have a CSV file named 'news.csv' in the same directory.\n",
        "#    The CSV should contain 'text' and 'label' columns. A common dataset for\n",
        "#    this can be found on Kaggle.\n",
        "# 2. Run `pip install pandas scikit-learn nltk` if you don't have the libraries.\n",
        "# 3. The first time you run this, it may require you to download the 'stopwords'\n",
        "#    corpus from NLTK.\n",
        "# ==============================================================================\n",
        "\n",
        "# ------------------------------------------------------------------------------\n",
        "# 1. IMPORTING NECESSARY LIBRARIES\n",
        "# ------------------------------------------------------------------------------\n",
        "import pandas as pd\n",
        "import numpy as np\n",
        "import re\n",
        "import itertools\n",
        "from nltk.corpus import stopwords\n",
        "from nltk.stem.porter import PorterStemmer\n",
        "\n",
        "from sklearn.model_selection import train_test_split\n",
        "from sklearn.feature_extraction.text import TfidfVectorizer\n",
        "from sklearn.linear_model import PassiveAggressiveClassifier\n",
        "from sklearn.metrics import accuracy_score, confusion_matrix, classification_report\n",
        "\n",
        "print(\"Libraries imported successfully.\")\n"
      ],
      "metadata": {
        "colab": {
          "base_uri": "https://localhost:8080/"
        },
        "id": "QsGZ44tCBNcw",
        "outputId": "fc9e601a-3faf-4b9c-ca98-261a4c32218e"
      },
      "execution_count": 10,
      "outputs": [
        {
          "output_type": "stream",
          "name": "stdout",
          "text": [
            "Libraries imported successfully.\n"
          ]
        }
      ]
    },
    {
      "cell_type": "code",
      "source": [
        "# ------------------------------------------------------------------------------\n",
        "# 2. LOADING AND PREPARING THE DATA\n",
        "# ------------------------------------------------------------------------------\n",
        "print(\"\\n--- Loading and Preparing Data ---\")\n",
        "\n",
        "# Load the datasets from two separate files: 'true.csv' and 'fake.csv'\n",
        "try:\n",
        "    df_true = pd.read_csv('True.csv')\n",
        "    df_fake = pd.read_csv('Fake.csv')\n",
        "    print(\"Datasets 'true.csv' and 'fake.csv' loaded successfully.\")\n",
        "\n",
        "    # Add a 'label' column to identify REAL and FAKE news\n",
        "    df_true['label'] = 'REAL'\n",
        "    df_fake['label'] = 'FAKE'\n",
        "\n",
        "    # Combine the two dataframes into a single one\n",
        "    df = pd.concat([df_true, df_fake], ignore_index=True)\n",
        "\n",
        "    # Shuffle the combined dataset to ensure random distribution\n",
        "    df = df.sample(frac=1, random_state=42).reset_index(drop=True)\n",
        "\n",
        "    print(\"Combined and shuffled the datasets.\")\n",
        "    print(f\"Combined dataset shape: {df.shape}\")\n",
        "    print(df.head())\n",
        "\n",
        "except FileNotFoundError as e:\n",
        "    print(\"\\n---\")\n",
        "    # More specific error message\n",
        "    print(f\"Error: The file '{e.filename}' was not found.\")\n",
        "    print(\"Please ensure both 'true.csv' and 'fake.csv' are in the same directory as this script.\")\n",
        "    print(\"---\")\n",
        "    exit()\n",
        "\n",
        "\n",
        "# Check for missing values\n",
        "print(\"\\nChecking for missing values:\")\n",
        "print(df.isnull().sum())\n",
        "df.dropna(inplace=True) # Drop rows with missing values if any\n",
        "print(\"Missing values handled.\")\n",
        "\n",
        "# Get the labels\n",
        "labels = df.label\n",
        "print(f\"\\nLabels found: {labels.unique()}\")\n",
        "\n"
      ],
      "metadata": {
        "colab": {
          "base_uri": "https://localhost:8080/"
        },
        "id": "vppbaRp6BNZz",
        "outputId": "3728c574-8363-478b-b4c8-f7cb1d55363a"
      },
      "execution_count": 11,
      "outputs": [
        {
          "output_type": "stream",
          "name": "stdout",
          "text": [
            "\n",
            "--- Loading and Preparing Data ---\n",
            "Datasets 'true.csv' and 'fake.csv' loaded successfully.\n",
            "Combined and shuffled the datasets.\n",
            "Combined dataset shape: (44898, 5)\n",
            "                                               title  \\\n",
            "0   BREAKING: GOP Chairman Grassley Has Had Enoug...   \n",
            "1   Failed GOP Candidates Remembered In Hilarious...   \n",
            "2   Mike Pence’s New DC Neighbors Are HILARIOUSLY...   \n",
            "3  California AG pledges to defend birth control ...   \n",
            "4  AZ RANCHERS Living On US-Mexico Border Destroy...   \n",
            "\n",
            "                                                text       subject  \\\n",
            "0  Donald Trump s White House is in chaos, and th...          News   \n",
            "1  Now that Donald Trump is the presumptive GOP n...          News   \n",
            "2  Mike Pence is a huge homophobe. He supports ex...          News   \n",
            "3  SAN FRANCISCO (Reuters) - California Attorney ...  politicsNews   \n",
            "4  Twisted reasoning is all that comes from Pelos...      politics   \n",
            "\n",
            "               date label  \n",
            "0     July 21, 2017  FAKE  \n",
            "1       May 7, 2016  FAKE  \n",
            "2  December 3, 2016  FAKE  \n",
            "3  October 6, 2017   REAL  \n",
            "4      Apr 25, 2017  FAKE  \n",
            "\n",
            "Checking for missing values:\n",
            "title      0\n",
            "text       0\n",
            "subject    0\n",
            "date       0\n",
            "label      0\n",
            "dtype: int64\n",
            "Missing values handled.\n",
            "\n",
            "Labels found: ['FAKE' 'REAL']\n"
          ]
        }
      ]
    },
    {
      "cell_type": "code",
      "source": [
        "# ------------------------------------------------------------------------------\n",
        "# 3. TEXT PREPROCESSING\n",
        "# ------------------------------------------------------------------------------\n",
        "print(\"\\n--- Preprocessing Text Data ---\")\n",
        "\n",
        "# Initialize the Porter Stemmer and get English stopwords\n",
        "ps = PorterStemmer()\n",
        "stop_words = stopwords.words('english')\n",
        "\n",
        "def preprocess_text(text):\n",
        "    \"\"\"\n",
        "    Cleans and preprocesses a single text entry.\n",
        "    - Removes non-alphabetic characters\n",
        "    - Converts to lowercase\n",
        "    - Splits into words\n",
        "    - Applies stemming and removes stopwords\n",
        "    \"\"\"\n",
        "    # Use regex to keep only alphabetic characters\n",
        "    review = re.sub('[^a-zA-Z]', ' ', text)\n",
        "    review = review.lower()\n",
        "    review = review.split()\n",
        "\n",
        "    # Stem words and remove stopwords\n",
        "    review = [ps.stem(word) for word in review if not word in stop_words]\n",
        "    review = ' '.join(review)\n",
        "    return review\n",
        "\n",
        "# Apply the preprocessing function to the 'text' column\n",
        "# This can take a few minutes on a large dataset\n",
        "print(\"Applying preprocessing to all articles... (This may take a moment)\")\n",
        "corpus = df['text'].apply(preprocess_text)\n",
        "print(\"Text preprocessing complete.\")\n"
      ],
      "metadata": {
        "colab": {
          "base_uri": "https://localhost:8080/"
        },
        "id": "diw692lrBNXo",
        "outputId": "16952ab6-30e6-47c2-d9fc-170cc4836fd3"
      },
      "execution_count": 12,
      "outputs": [
        {
          "output_type": "stream",
          "name": "stdout",
          "text": [
            "\n",
            "--- Preprocessing Text Data ---\n",
            "Applying preprocessing to all articles... (This may take a moment)\n",
            "Text preprocessing complete.\n"
          ]
        }
      ]
    },
    {
      "cell_type": "code",
      "source": [
        "# ------------------------------------------------------------------------------\n",
        "# 4. FEATURE EXTRACTION (TF-IDF)\n",
        "# ------------------------------------------------------------------------------\n",
        "print(\"\\n--- Performing Feature Extraction using TF-IDF ---\")\n",
        "\n",
        "# Separate the data into features (X) and labels (y)\n",
        "X = corpus\n",
        "y = labels\n",
        "\n",
        "# Initialize the TF-IDF Vectorizer\n",
        "# max_df=0.7 -> ignore terms that appear in more than 70% of documents\n",
        "# stop_words='english' -> remove common English words\n",
        "tfidf_vectorizer = TfidfVectorizer(max_df=0.7, stop_words='english')\n",
        "\n",
        "# Fit and transform the training data\n",
        "tfidf_X = tfidf_vectorizer.fit_transform(X)\n",
        "print(f\"TF-IDF matrix shape: {tfidf_X.shape}\")\n",
        "\n"
      ],
      "metadata": {
        "colab": {
          "base_uri": "https://localhost:8080/"
        },
        "id": "Gs1CgxjDBNUA",
        "outputId": "05d3d334-961b-4cd8-83a9-d8a170be70e4"
      },
      "execution_count": 14,
      "outputs": [
        {
          "output_type": "stream",
          "name": "stdout",
          "text": [
            "\n",
            "--- Performing Feature Extraction using TF-IDF ---\n",
            "TF-IDF matrix shape: (44898, 89453)\n"
          ]
        }
      ]
    },
    {
      "cell_type": "code",
      "source": [
        "# ------------------------------------------------------------------------------\n",
        "# 5. SPLITTING DATA AND TRAINING THE MODEL\n",
        "# ------------------------------------------------------------------------------\n",
        "print(\"\\n--- Splitting Data and Training the Model ---\")\n",
        "\n",
        "# Split the dataset into training and testing sets\n",
        "X_train, X_test, y_train, y_test = train_test_split(tfidf_X, y, test_size=0.2, random_state=42, stratify=y)\n",
        "\n",
        "# Initialize the PassiveAggressiveClassifier\n",
        "# This is a great choice for text classification as it works well with high-dimensional data\n",
        "pac = PassiveAggressiveClassifier(max_iter=100)\n",
        "\n",
        "# Train the model\n",
        "pac.fit(X_train, y_train)\n",
        "print(\"Model training complete.\")\n",
        "\n"
      ],
      "metadata": {
        "colab": {
          "base_uri": "https://localhost:8080/"
        },
        "id": "93OBlLCHBNQ0",
        "outputId": "28a15295-a1f6-4845-e284-909bdd387f6e"
      },
      "execution_count": 15,
      "outputs": [
        {
          "output_type": "stream",
          "name": "stdout",
          "text": [
            "\n",
            "--- Splitting Data and Training the Model ---\n",
            "Model training complete.\n"
          ]
        }
      ]
    },
    {
      "cell_type": "code",
      "source": [
        "# ------------------------------------------------------------------------------\n",
        "# 6. EVALUATING THE MODEL\n",
        "# ------------------------------------------------------------------------------\n",
        "print(\"\\n--- Evaluating Model Performance ---\")\n",
        "\n",
        "# Make predictions on the test set\n",
        "y_pred = pac.predict(X_test)\n",
        "\n",
        "# Calculate the accuracy\n",
        "accuracy = accuracy_score(y_test, y_pred)\n",
        "print(f'Model Accuracy: {accuracy * 100:.2f}%')\n",
        "\n",
        "# Display the confusion matrix\n",
        "print(\"\\nConfusion Matrix:\")\n",
        "cm = confusion_matrix(y_test, y_pred)\n",
        "print(cm)\n",
        "# Plotting the confusion matrix for better visualization\n",
        "import seaborn as sns\n",
        "import matplotlib.pyplot as plt\n",
        "\n",
        "plt.figure(figsize=(8, 6))\n",
        "sns.heatmap(cm, annot=True, fmt='d', cmap='Blues', xticklabels=['FAKE', 'REAL'], yticklabels=['FAKE', 'REAL'])\n",
        "plt.xlabel('Predicted')\n",
        "plt.ylabel('Actual')\n",
        "plt.title('Confusion Matrix')\n",
        "plt.show()\n",
        "\n",
        "\n",
        "# Display the classification report\n",
        "print(\"\\nClassification Report:\")\n",
        "print(classification_report(y_test, y_pred, target_names=['FAKE', 'REAL']))\n"
      ],
      "outputs": [
        {
          "output_type": "stream",
          "name": "stdout",
          "text": [
            "\n",
            "--- Evaluating Model Performance ---\n",
            "Model Accuracy: 99.29%\n",
            "\n",
            "Confusion Matrix:\n",
            "[[4654   42]\n",
            " [  22 4262]]\n"
          ]
        },
        {
          "output_type": "display_data",
          "data": {
            "text/plain": [
              "<Figure size 800x600 with 2 Axes>"
            ],
            "image/png": "[encoded data removed]"
          },
          "metadata": {}
        },
        {
          "output_type": "stream",
          "name": "stdout",
          "text": [
            "\n",
            "Classification Report:\n",
            "              precision    recall  f1-score   support\n",
            "\n",
            "        FAKE       1.00      0.99      0.99      4696\n",
            "        REAL       0.99      0.99      0.99      4284\n",
            "\n",
            "    accuracy                           0.99      8980\n",
            "   macro avg       0.99      0.99      0.99      8980\n",
            "weighted avg       0.99      0.99      0.99      8980\n",
            "\n"
          ]
        }
      ],
      "execution_count": 16,
      "metadata": {
        "colab": {
          "base_uri": "https://localhost:8080/",
          "height": 876
        },
        "id": "pL63cg4MBHQ3",
        "outputId": "c0aac7e0-2ca5-493a-ff0b-b5c2cac4f7da"
      }
    },
    {
      "cell_type": "code",
      "source": [
        "# ------------------------------------------------------------------------------\n",
        "# 7. PREDICTING ON NEW, UNSEEN NEWS ARTICLES\n",
        "# ------------------------------------------------------------------------------\n",
        "print(\"\\n--- Testing the Model on New Articles ---\")\n",
        "\n",
        "def predict_news(news_article):\n",
        "    \"\"\"\n",
        "    Takes a raw news article string, preprocesses it, transforms it with\n",
        "    the trained TF-IDF vectorizer, and predicts its label.\n",
        "    \"\"\"\n",
        "    processed_article = preprocess_text(news_article)\n",
        "    tfidf_article = tfidf_vectorizer.transform([processed_article])\n",
        "    prediction = pac.predict(tfidf_article)\n",
        "    return prediction[0]\n",
        "\n",
        "# Example Articles\n",
        "real_news_example = \"The stock market saw a significant surge today after the central bank announced a cut in interest rates, aiming to boost economic activity. Investors reacted positively, with major indices closing at an all-time high.\"\n",
        "fake_news_example = \"BREAKING: Scientists have discovered a new species of flying elephants in the Amazon rainforest. The government is trying to cover it up, but we have exclusive photos from a whistleblower. This changes everything we know about biology.\"\n",
        "\n",
        "# Predict and print results\n",
        "print(f\"\\nPrediction for Real News Example: '{predict_news(real_news_example)}'\")\n",
        "print(f\"Prediction for Fake News Example: '{predict_news(fake_news_example)}'\")"
      ],
      "metadata": {
        "colab": {
          "base_uri": "https://localhost:8080/"
        },
        "id": "28IQkFsLBpyW",
        "outputId": "f293877f-78a6-4f7d-dd8c-1b24ffad8213"
      },
      "execution_count": 17,
      "outputs": [
        {
          "output_type": "stream",
          "name": "stdout",
          "text": [
            "\n",
            "--- Testing the Model on New Articles ---\n",
            "\n",
            "Prediction for Real News Example: 'FAKE'\n",
            "Prediction for Fake News Example: 'FAKE'\n"
          ]
        }
      ]
    }
  ],
  "metadata": {
    "colab": {
      "provenance": []
    },
    "kernelspec": {
      "display_name": "Python 3",
      "name": "python3"
    }
  },
  "nbformat": 4,
  "nbformat_minor": 0
}